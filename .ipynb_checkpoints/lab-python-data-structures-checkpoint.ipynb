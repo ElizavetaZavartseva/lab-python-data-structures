{
 "cells": [
  {
   "cell_type": "markdown",
   "metadata": {
    "tags": []
   },
   "source": [
    "# Lab | Data Structures "
   ]
  },
  {
   "cell_type": "markdown",
   "metadata": {},
   "source": [
    "## Exercise: Managing Customer Orders\n",
    "\n",
    "As part of a business venture, you are starting an online store that sells various products. To ensure smooth operations, you need to develop a program that manages customer orders and inventory.\n",
    "\n",
    "Follow the steps below to complete the exercise:\n",
    "\n",
    "1. Define a list called `products` that contains the following items: \"t-shirt\", \"mug\", \"hat\", \"book\", \"keychain\".\n",
    "\n",
    "2. Create an empty dictionary called `inventory`.\n",
    "\n",
    "3. Ask the user to input the quantity of each product available in the inventory. Use the product names from the `products` list as keys in the `inventory` dictionary and assign the respective quantities as values.\n",
    "\n",
    "4. Create an empty set called `customer_orders`.\n",
    "\n",
    "5. Ask the user to input the name of three products that a customer wants to order (from those in the products list, meaning three products out of \"t-shirt\", \"mug\", \"hat\", \"book\" or \"keychain\". Add each product name to the `customer_orders` set.\n",
    "\n",
    "6. Print the products in the `customer_orders` set.\n",
    "\n",
    "7. Calculate the following order statistics:\n",
    "   - Total Products Ordered: The total number of products in the `customer_orders` set.\n",
    "   - Percentage of Products Ordered: The percentage of products ordered compared to the total available products.\n",
    "   \n",
    "   Store these statistics in a tuple called `order_status`.\n",
    "\n",
    "8. Print the order statistics using the following format:\n",
    "   ```\n",
    "   Order Statistics:\n",
    "   Total Products Ordered: <total_products_ordered>\n",
    "   Percentage of Products Ordered: <percentage_ordered>% \n",
    "   ```\n",
    "\n",
    "9. Update the inventory by subtracting 1 from the quantity of each product. Modify the `inventory` dictionary accordingly.\n",
    "\n",
    "10. Print the updated inventory, displaying the quantity of each product on separate lines.\n",
    "\n",
    "Solve the exercise by implementing the steps using the Python concepts of lists, dictionaries, sets, and basic input/output operations. "
   ]
  },
  {
   "cell_type": "code",
   "execution_count": 211,
   "metadata": {},
   "outputs": [],
   "source": [
    "#Solution_1\n",
    "\n",
    "products = [\"t-shirt\", \"mug\", \"hat\", \"book\", \"keychain\"]"
   ]
  },
  {
   "cell_type": "code",
   "execution_count": 213,
   "metadata": {},
   "outputs": [],
   "source": [
    "#Solution_2\n",
    "\n",
    "inventory = {}"
   ]
  },
  {
   "cell_type": "code",
   "execution_count": 215,
   "metadata": {},
   "outputs": [
    {
     "name": "stdin",
     "output_type": "stream",
     "text": [
      "Enter the number of t-shirts 7\n",
      "Enter the number of mugs 7\n",
      "Enter the number of hats 7\n",
      "Enter the number of books 7\n",
      "Enter the number of keychains 7\n"
     ]
    },
    {
     "name": "stdout",
     "output_type": "stream",
     "text": [
      "{'t-shirt': 7, 'mug': 7, 'hat': 7, 'book': 7, 'keychain': 7}\n"
     ]
    }
   ],
   "source": [
    "#Solution_3\n",
    "\n",
    "for item in products:\n",
    "    quantity_of_items = int(input(f\"Enter the number of {item}s\"))\n",
    "    inventory[item] = quantity_of_items\n",
    "\n",
    "print(inventory)"
   ]
  },
  {
   "cell_type": "code",
   "execution_count": 217,
   "metadata": {
    "tags": []
   },
   "outputs": [],
   "source": [
    "#Solution_4\n",
    "\n",
    "customer_orders = set()"
   ]
  },
  {
   "cell_type": "code",
   "execution_count": 219,
   "metadata": {
    "tags": []
   },
   "outputs": [
    {
     "name": "stdin",
     "output_type": "stream",
     "text": [
      "Enter the name of three products out of \"t-shirt\", \"mug\", \"hat\", \"book\" or \"keychain\" that you want to order. The first name of product: mug\n",
      "Enter the second name of product: hat\n",
      "Enter the third name of product: book\n"
     ]
    }
   ],
   "source": [
    "#Solution_5 \n",
    "\n",
    "firts_name = input('Enter the name of three products out of \"t-shirt\", \"mug\", \"hat\", \"book\" or \"keychain\" that you want to order. The first name of product:')\n",
    "customer_orders.add(firts_name)  \n",
    "second_name = input('Enter the second name of product:')\n",
    "customer_orders.add(second_name)  \n",
    "third_name = input('Enter the third name of product:')\n",
    "customer_orders.add(third_name)  \n"
   ]
  },
  {
   "cell_type": "code",
   "execution_count": 221,
   "metadata": {
    "tags": []
   },
   "outputs": [
    {
     "name": "stdout",
     "output_type": "stream",
     "text": [
      "{'mug', 'book', 'hat'}\n"
     ]
    }
   ],
   "source": [
    "#Solution_6\n",
    "\n",
    "print(customer_orders)"
   ]
  },
  {
   "cell_type": "code",
   "execution_count": 248,
   "metadata": {
    "tags": []
   },
   "outputs": [
    {
     "name": "stdout",
     "output_type": "stream",
     "text": [
      "Number of elements in set: 3\n",
      "The total number of products: 21\n",
      "Percentage of Products Ordered: 60.0%\n",
      "(35, 60.0)\n"
     ]
    }
   ],
   "source": [
    "#Solution_7\n",
    "\n",
    "number_of_products_in_customer_orders = len(customer_orders)\n",
    "print(f\"Number of elements in set: {number_of_products_in_customer_orders}\")\n",
    "\n",
    "total_number_of_products = 0\n",
    "for item in customer_orders:\n",
    "    total_number_of_products += inventory.get(item, 0)\n",
    "\n",
    "print(f\"The total number of products: {total_number_of_products}\")\n",
    "\n",
    "total_available_products = sum(inventory.values())\n",
    "percentage_of_products_ordered = total_number_of_products / total_available_products * 100\n",
    "\n",
    "print(f\"Percentage of Products Ordered: {percentage_of_products_ordered}%\")\n",
    "\n",
    "order_status = (total_available_products, percentage_of_products_ordered)\n",
    "print(order_status)"
   ]
  },
  {
   "cell_type": "code",
   "execution_count": 262,
   "metadata": {
    "tags": []
   },
   "outputs": [
    {
     "name": "stdout",
     "output_type": "stream",
     "text": [
      "Order Statistics:\n",
      "Total Products Ordered: 21\n",
      "Percentage of Products Ordered: 60.0%\n"
     ]
    }
   ],
   "source": [
    "#Solution_8\n",
    "\n",
    "#Print the order statistics using the following format:\n",
    "\n",
    "order_statistics = f\"Order Statistics:\\n\" + \\\n",
    "f\"Total Products Ordered: {total_number_of_products}\\n\" + \\\n",
    "f\"Percentage of Products Ordered: {percentage_of_products_ordered}%\" \n",
    "\n",
    "print(order_statistics)"
   ]
  },
  {
   "cell_type": "code",
   "execution_count": 282,
   "metadata": {
    "tags": []
   },
   "outputs": [
    {
     "name": "stdout",
     "output_type": "stream",
     "text": [
      "{'t-shirt': 4, 'mug': 4, 'hat': 4, 'book': 4, 'keychain': 4}\n",
      "{'t-shirt': 3, 'mug': 3, 'hat': 3, 'book': 3, 'keychain': 3}\n"
     ]
    }
   ],
   "source": [
    "#Solution_9\n",
    "\n",
    "# for item in inventory:\n",
    "#     inventory[item] -= 1 \n",
    "    \n",
    "print(inventory)\n",
    "\n",
    "for k, v in inventory.items():\n",
    "    inventory[k] = v - 1\n",
    "    \n",
    "print(inventory)"
   ]
  },
  {
   "cell_type": "code",
   "execution_count": 294,
   "metadata": {
    "tags": []
   },
   "outputs": [
    {
     "name": "stdout",
     "output_type": "stream",
     "text": [
      "{'t-shirt': 3, 'mug': 3, 'hat': 3, 'book': 3, 'keychain': 3}\n",
      "t-shirt: 3\n",
      "mug: 3\n",
      "hat: 3\n",
      "book: 3\n",
      "keychain: 3\n"
     ]
    }
   ],
   "source": [
    "#Solution_10\n",
    "print(inventory)\n",
    "\n",
    "for k, v in inventory.items():\n",
    "    print(f\"{k}: {v}\")\n",
    "    "
   ]
  }
 ],
 "metadata": {
  "kernelspec": {
   "display_name": "Python 3 (ipykernel)",
   "language": "python",
   "name": "python3"
  },
  "language_info": {
   "codemirror_mode": {
    "name": "ipython",
    "version": 3
   },
   "file_extension": ".py",
   "mimetype": "text/x-python",
   "name": "python",
   "nbconvert_exporter": "python",
   "pygments_lexer": "ipython3",
   "version": "3.11.7"
  }
 },
 "nbformat": 4,
 "nbformat_minor": 4
}
